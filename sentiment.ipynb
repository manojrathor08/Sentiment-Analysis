{
 "cells": [
  {
   "cell_type": "code",
   "execution_count": 1,
   "id": "ff592789-f908-4e52-ac83-475d33eec155",
   "metadata": {
    "tags": []
   },
   "outputs": [
    {
     "name": "stderr",
     "output_type": "stream",
     "text": [
      "/usr/local/lib/python3.11/dist-packages/torch/cuda/__init__.py:611: UserWarning: Can't initialize NVML\n",
      "  warnings.warn(\"Can't initialize NVML\")\n"
     ]
    }
   ],
   "source": [
    "import json\n",
    "from flask import Flask, render_template, request\n",
    "from sentiment_analysis import sentiment_analyzer\n",
    "response = sentiment_analyzer(\"I love coding\")\n",
    "response[\"documentSentiment\"]['label'], response[\"documentSentiment\"]['score']"
   ]
  },
  {
   "cell_type": "code",
   "execution_count": 5,
   "id": "1384b797-582e-4f42-b8ac-ef2e7bd0277f",
   "metadata": {
    "tags": []
   },
   "outputs": [
    {
     "data": {
      "text/plain": [
       "{'documentSentiment': {'label': 'positive', 'score': 0.9996923208236694}}"
      ]
     },
     "execution_count": 5,
     "metadata": {},
     "output_type": "execute_result"
    }
   ],
   "source": [
    "response"
   ]
  },
  {
   "cell_type": "code",
   "execution_count": 4,
   "id": "77961f74-4607-4eb7-9c49-878666a919ce",
   "metadata": {
    "tags": []
   },
   "outputs": [
    {
     "data": {
      "text/plain": [
       "('positive', 0.9996923208236694)"
      ]
     },
     "execution_count": 4,
     "metadata": {},
     "output_type": "execute_result"
    }
   ],
   "source": [
    "response[\"documentSentiment\"]['label'], response[\"documentSentiment\"]['score']"
   ]
  },
  {
   "cell_type": "code",
   "execution_count": 4,
   "id": "d34015e9-fb2d-40e7-a93a-a404bb2cb7ae",
   "metadata": {
    "tags": []
   },
   "outputs": [
    {
     "data": {
      "text/plain": [
       "{'documentSentiment': {'label': 'positive', 'score': 0.9996923208236694}}"
      ]
     },
     "execution_count": 4,
     "metadata": {},
     "output_type": "execute_result"
    }
   ],
   "source": [
    "response"
   ]
  },
  {
   "cell_type": "code",
   "execution_count": null,
   "id": "f676c52d-913a-490b-acce-99087522c95a",
   "metadata": {
    "tags": []
   },
   "outputs": [
    {
     "name": "stdout",
     "output_type": "stream",
     "text": [
      " * Serving Flask app 'Sentiment Analyzer'\n",
      " * Debug mode: off\n"
     ]
    },
    {
     "name": "stderr",
     "output_type": "stream",
     "text": [
      "WARNING: This is a development server. Do not use it in a production deployment. Use a production WSGI server instead.\n",
      " * Running on all addresses (0.0.0.0)\n",
      " * Running on http://127.0.0.1:5000\n",
      " * Running on http://10.38.106.90:5000\n",
      "Press CTRL+C to quit\n"
     ]
    }
   ],
   "source": [
    "app = Flask(\"Sentiment Analyzer\")\n",
    "@app.route(\"/sentimentAnalyzer\")\n",
    "def sent_analyzer():\n",
    "    # Retrieve the text to analyze from the request arguments\n",
    "    text_to_analyze = request.args.get('textToAnalyze')\n",
    "\n",
    "    # Pass the text to the sentiment_analyzer function and store the response\n",
    "    response = sentiment_analyzer(text_to_analyze)\n",
    "\n",
    "    # Extract the label and score from the response\n",
    "    label = response[\"documentSentiment\"]['label']\n",
    "    score = response[\"documentSentiment\"]['score']\n",
    "\n",
    "    # Return a formatted string with the sentiment label and score\n",
    "    return \"The given text has been identified as {} with a score of {}.\".format(label.split('_')[1], score)\n",
    "@app.route(\"/\")\n",
    "def render_index_page():\n",
    "    return render_template('index.html')\n",
    "if __name__ == \"__main__\":\n",
    "    app.run(host=\"0.0.0.0\", port=5000)"
   ]
  },
  {
   "cell_type": "code",
   "execution_count": null,
   "id": "dec932bf-cb67-49f0-b7dc-a9fc9d65f0ad",
   "metadata": {},
   "outputs": [],
   "source": []
  },
  {
   "cell_type": "code",
   "execution_count": null,
   "id": "af226fa2-83fd-44ff-8358-509d34209fe0",
   "metadata": {},
   "outputs": [],
   "source": []
  },
  {
   "cell_type": "code",
   "execution_count": null,
   "id": "9f685380-561a-489e-87a0-20b8ec525391",
   "metadata": {},
   "outputs": [],
   "source": []
  },
  {
   "cell_type": "code",
   "execution_count": null,
   "id": "48d71b55-b783-45bb-8423-2aa5994709ab",
   "metadata": {},
   "outputs": [],
   "source": []
  }
 ],
 "metadata": {
  "kernelspec": {
   "display_name": "Python 3 (ipykernel)",
   "language": "python",
   "name": "python3"
  },
  "language_info": {
   "codemirror_mode": {
    "name": "ipython",
    "version": 3
   },
   "file_extension": ".py",
   "mimetype": "text/x-python",
   "name": "python",
   "nbconvert_exporter": "python",
   "pygments_lexer": "ipython3",
   "version": "3.11.7"
  }
 },
 "nbformat": 4,
 "nbformat_minor": 5
}
